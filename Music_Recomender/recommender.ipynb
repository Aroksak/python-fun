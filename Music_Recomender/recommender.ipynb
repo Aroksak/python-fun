{
 "cells": [
  {
   "cell_type": "markdown",
   "metadata": {},
   "source": [
    "# Music recommendation system\n",
    "<br>\n",
    "Based on the Cameron Wolfe's work:<br>\n",
    "https://towardsdatascience.com/building-a-music-recommendation-engine-with-probabilistic-matrix-factorization-in-pytorch-7d2934067d4a <br>\n",
    "https://github.com/wolfecameron/music_recommendation <br>\n",
    "<br>\n",
    "Used dataset of last.fm users released in the framework of Het Rec2011:<br>\n",
    "http://files.grouplens.org/datasets/hetrec2011/ <br>\n",
    "<br>\n",
    "The system was built using Pytorch framework. The main idea behind the system is Matrix factorization."
   ]
  },
  {
   "cell_type": "code",
   "execution_count": 1,
   "metadata": {
    "ExecuteTime": {
     "end_time": "2019-04-28T20:24:04.392887Z",
     "start_time": "2019-04-28T20:23:55.035912Z"
    }
   },
   "outputs": [],
   "source": [
    "from torch import nn\n",
    "import numpy as np\n",
    "import pandas as pd\n",
    "import matplotlib.pyplot as plt\n",
    "%matplotlib inline\n",
    "pd.options.mode.chained_assignment = None"
   ]
  },
  {
   "cell_type": "markdown",
   "metadata": {},
   "source": [
    "## 1. Explanatory Data Analysis\n",
    "<br>\n",
    "In this work I used only statistics of users' flavours for certain artists. I did not used available information about users' frendship and music tags.<br>\n",
    "The dataset is contained in a .dat file, which is in its structure a simple tab-separated values file.<br>\n",
    "Each line contains a pair userID-artistID and 'weight' which is number of minutes this user listened to the music of this artist."
   ]
  },
  {
   "cell_type": "code",
   "execution_count": 2,
   "metadata": {
    "ExecuteTime": {
     "end_time": "2019-04-28T20:24:49.925749Z",
     "start_time": "2019-04-28T20:24:49.306417Z"
    }
   },
   "outputs": [
    {
     "data": {
      "text/html": [
       "<div>\n",
       "<style scoped>\n",
       "    .dataframe tbody tr th:only-of-type {\n",
       "        vertical-align: middle;\n",
       "    }\n",
       "\n",
       "    .dataframe tbody tr th {\n",
       "        vertical-align: top;\n",
       "    }\n",
       "\n",
       "    .dataframe thead th {\n",
       "        text-align: right;\n",
       "    }\n",
       "</style>\n",
       "<table border=\"1\" class=\"dataframe\">\n",
       "  <thead>\n",
       "    <tr style=\"text-align: right;\">\n",
       "      <th></th>\n",
       "      <th>userID</th>\n",
       "      <th>artistID</th>\n",
       "      <th>weight</th>\n",
       "    </tr>\n",
       "  </thead>\n",
       "  <tbody>\n",
       "    <tr>\n",
       "      <th>0</th>\n",
       "      <td>2</td>\n",
       "      <td>51</td>\n",
       "      <td>13883</td>\n",
       "    </tr>\n",
       "    <tr>\n",
       "      <th>1</th>\n",
       "      <td>2</td>\n",
       "      <td>52</td>\n",
       "      <td>11690</td>\n",
       "    </tr>\n",
       "    <tr>\n",
       "      <th>2</th>\n",
       "      <td>2</td>\n",
       "      <td>53</td>\n",
       "      <td>11351</td>\n",
       "    </tr>\n",
       "    <tr>\n",
       "      <th>3</th>\n",
       "      <td>2</td>\n",
       "      <td>54</td>\n",
       "      <td>10300</td>\n",
       "    </tr>\n",
       "    <tr>\n",
       "      <th>4</th>\n",
       "      <td>2</td>\n",
       "      <td>55</td>\n",
       "      <td>8983</td>\n",
       "    </tr>\n",
       "  </tbody>\n",
       "</table>\n",
       "</div>"
      ],
      "text/plain": [
       "   userID  artistID  weight\n",
       "0       2        51   13883\n",
       "1       2        52   11690\n",
       "2       2        53   11351\n",
       "3       2        54   10300\n",
       "4       2        55    8983"
      ]
     },
     "execution_count": 2,
     "metadata": {},
     "output_type": "execute_result"
    }
   ],
   "source": [
    "user_artist = pd.read_csv(\"data/hetrec2011-lastfm-2k/user_artists.dat\", sep='\\t')\n",
    "user_artist.head()"
   ]
  },
  {
   "cell_type": "code",
   "execution_count": 3,
   "metadata": {
    "ExecuteTime": {
     "end_time": "2019-04-28T20:24:50.118063Z",
     "start_time": "2019-04-28T20:24:50.104604Z"
    }
   },
   "outputs": [
    {
     "name": "stdout",
     "output_type": "stream",
     "text": [
      "Total records: 92834\n",
      "Total users: 1892\n",
      "Total artists: 17632\n",
      "Known ratings ratio: 0.28%\n"
     ]
    }
   ],
   "source": [
    "print(\"Total records: {0}\".format(user_artist['userID'].count()))\n",
    "print(\"Total users: {0}\".format(user_artist['userID'].nunique()))\n",
    "print(\"Total artists: {0}\".format(user_artist['artistID'].nunique()))\n",
    "print(\"Known ratings ratio: {0:.2%}\".format(user_artist['userID'].count() / \n",
    "                                            (user_artist['userID'].nunique() * user_artist['artistID'].nunique())))"
   ]
  },
  {
   "cell_type": "markdown",
   "metadata": {},
   "source": [
    "The user-artist matrix is very sparse, only as little as 0.28% of possible ratings are known, which is not too surprising."
   ]
  },
  {
   "cell_type": "code",
   "execution_count": 4,
   "metadata": {
    "ExecuteTime": {
     "end_time": "2019-04-28T20:24:52.368170Z",
     "start_time": "2019-04-28T20:24:51.377149Z"
    }
   },
   "outputs": [
    {
     "data": {
      "image/png": "[encoded data removed]",
      "text/plain": [
       "<Figure size 432x288 with 1 Axes>"
      ]
     },
     "metadata": {
      "needs_background": "light"
     },
     "output_type": "display_data"
    }
   ],
   "source": [
    "user_artist.userID.value_counts().hist(bins=50)\n",
    "plt.yscale(\"log\")\n",
    "plt.show()"
   ]
  },
  {
   "cell_type": "markdown",
   "metadata": {},
   "source": [
    "The dataset presents 50 most popular artists for each user, and if user listened to less then 50 artists on the last.fm, then it present as much as possible. As can be seen from the plot above, the vast majority of presented users have the full list of 50 top artists in the dataset. <br>\n",
    "It is very hard to understand flavours of a user with a short listening history, but fortunately, the number of such users is relatively small."
   ]
  },
  {
   "cell_type": "code",
   "execution_count": 5,
   "metadata": {
    "ExecuteTime": {
     "end_time": "2019-04-28T20:24:53.072132Z",
     "start_time": "2019-04-28T20:24:52.644217Z"
    }
   },
   "outputs": [
    {
     "data": {
      "image/png": "[encoded data removed]",
      "text/plain": [
       "<Figure size 432x288 with 1 Axes>"
      ]
     },
     "metadata": {
      "needs_background": "light"
     },
     "output_type": "display_data"
    }
   ],
   "source": [
    "user_artist.artistID.value_counts().hist(bins=50)\n",
    "plt.yscale(\"log\")\n",
    "plt.show()"
   ]
  },
  {
   "cell_type": "markdown",
   "metadata": {},
   "source": [
    "On the other hand, most presented artists had been listened to by only 1 user. Such artists are very hard to recommend, because info from a single user is not robust. And moreover, it's not possible to test the model upon such artists, because if we use these records for training - there is no sense in testing on them, and if we don't - the predictions will be fully random."
   ]
  },
  {
   "cell_type": "markdown",
   "metadata": {},
   "source": [
    "## 2. Data preparation\n",
    "<br>\n",
    "Let us get rid of users which listened little artists as well as from not well-rated artists."
   ]
  },
  {
   "cell_type": "code",
   "execution_count": 6,
   "metadata": {
    "ExecuteTime": {
     "end_time": "2019-04-28T20:24:54.401371Z",
     "start_time": "2019-04-28T20:24:54.247135Z"
    }
   },
   "outputs": [
    {
     "data": {
      "text/plain": [
       "userID      70881\n",
       "artistID    70881\n",
       "weight      70881\n",
       "dtype: int64"
      ]
     },
     "execution_count": 6,
     "metadata": {},
     "output_type": "execute_result"
    }
   ],
   "source": [
    "MIN_RATED_ARTISTS_PER_USER = 40\n",
    "MIN_RATINGS_FOR_ARTIST = 5\n",
    "user_artist_filtered = user_artist.drop(\n",
    "    user_artist[\n",
    "        (user_artist.userID.value_counts()[user_artist.userID] < MIN_RATED_ARTISTS_PER_USER).values |\\\n",
    "        (user_artist.artistID.value_counts()[user_artist.artistID] < MIN_RATINGS_FOR_ARTIST).values\n",
    "    ].index\n",
    ")\n",
    "user_artist_filtered.count()"
   ]
  },
  {
   "cell_type": "markdown",
   "metadata": {},
   "source": [
    "Thus we dropped around 20k records, but it will lead to decreasing sparseness of the user-artist data, making our model more trustworthy.<br>\n",
    "As a second turn, let us remap the ID's in the dataset to make them continious. We will save the remapping dictionaries in order to revert the changes after our work, so the numbers may match the actual users and artists."
   ]
  },
  {
   "cell_type": "code",
   "execution_count": 7,
   "metadata": {
    "ExecuteTime": {
     "end_time": "2019-04-28T20:24:55.420742Z",
     "start_time": "2019-04-28T20:24:55.394824Z"
    }
   },
   "outputs": [
    {
     "data": {
      "text/html": [
       "<div>\n",
       "<style scoped>\n",
       "    .dataframe tbody tr th:only-of-type {\n",
       "        vertical-align: middle;\n",
       "    }\n",
       "\n",
       "    .dataframe tbody tr th {\n",
       "        vertical-align: top;\n",
       "    }\n",
       "\n",
       "    .dataframe thead th {\n",
       "        text-align: right;\n",
       "    }\n",
       "</style>\n",
       "<table border=\"1\" class=\"dataframe\">\n",
       "  <thead>\n",
       "    <tr style=\"text-align: right;\">\n",
       "      <th></th>\n",
       "      <th>userID</th>\n",
       "      <th>artistID</th>\n",
       "      <th>weight</th>\n",
       "    </tr>\n",
       "  </thead>\n",
       "  <tbody>\n",
       "    <tr>\n",
       "      <th>0</th>\n",
       "      <td>0</td>\n",
       "      <td>0</td>\n",
       "      <td>13883</td>\n",
       "    </tr>\n",
       "    <tr>\n",
       "      <th>1</th>\n",
       "      <td>0</td>\n",
       "      <td>1</td>\n",
       "      <td>11690</td>\n",
       "    </tr>\n",
       "    <tr>\n",
       "      <th>2</th>\n",
       "      <td>0</td>\n",
       "      <td>2</td>\n",
       "      <td>11351</td>\n",
       "    </tr>\n",
       "    <tr>\n",
       "      <th>3</th>\n",
       "      <td>0</td>\n",
       "      <td>3</td>\n",
       "      <td>10300</td>\n",
       "    </tr>\n",
       "    <tr>\n",
       "      <th>4</th>\n",
       "      <td>0</td>\n",
       "      <td>4</td>\n",
       "      <td>8983</td>\n",
       "    </tr>\n",
       "  </tbody>\n",
       "</table>\n",
       "</div>"
      ],
      "text/plain": [
       "   userID  artistID  weight\n",
       "0       0         0   13883\n",
       "1       0         1   11690\n",
       "2       0         2   11351\n",
       "3       0         3   10300\n",
       "4       0         4    8983"
      ]
     },
     "execution_count": 7,
     "metadata": {},
     "output_type": "execute_result"
    }
   ],
   "source": [
    "def reverse_dict(x):\n",
    "    return dict(zip(x.values(), x.keys()))\n",
    "\n",
    "user_remap = dict(enumerate(user_artist_filtered.userID.unique()))\n",
    "artist_remap = dict(enumerate(user_artist_filtered.artistID.unique()))\n",
    "\n",
    "user_artist_rm = pd.DataFrame()\n",
    "user_artist_rm['userID'] = user_artist_filtered.userID.map(reverse_dict(user_remap))\n",
    "user_artist_rm['artistID'] = user_artist_filtered.artistID.map(reverse_dict(artist_remap))\n",
    "user_artist_rm['weight'] = user_artist_filtered['weight']\n",
    "user_artist_rm.head()"
   ]
  },
  {
   "cell_type": "markdown",
   "metadata": {},
   "source": [
    "Simple random splitting to train and test sets is not applicable in this case. Because, for instance, if a user is not presented in the training dataset it is not possible to predict any of his flavours in the test.<br>\n",
    "So I decided to take the 10% of users and try to predict 20% of their ratings.<br>\n",
    "<br>\n",
    "Weights in their current form have a little meaning, because if a person listened to any kind of music 10 times more than another person, it doesn't mean that she or he likes any artist 10 times more. This is why I renormalised the weigths based on the total listening time for each user in the training dataset.<br>\n",
    "For the records in the test subset labels were derived using total listening times from training subset in order to simulate the actual case where we would like to recommend a person something new."
   ]
  },
  {
   "cell_type": "code",
   "execution_count": 8,
   "metadata": {
    "ExecuteTime": {
     "end_time": "2019-04-28T20:24:59.267821Z",
     "start_time": "2019-04-28T20:24:56.328020Z"
    }
   },
   "outputs": [
    {
     "data": {
      "text/plain": [
       "userID      1510\n",
       "artistID    1510\n",
       "weight      1510\n",
       "dtype: int64"
      ]
     },
     "execution_count": 8,
     "metadata": {},
     "output_type": "execute_result"
    }
   ],
   "source": [
    "def data_split(data, test_users_ratio=0.1):\n",
    "    test_users = np.random.choice(data['userID'].values, \n",
    "                                  size=round(test_users_ratio*data['userID'].nunique()))\n",
    "    test_row_indeces = []\n",
    "    for user in test_users:\n",
    "        user_records = data.loc[data['userID'] == user, :].index.values\n",
    "        test_row_indeces.extend(np.random.choice(user_records, size=round(0.2*user_records.size)).tolist())\n",
    "    test = data.loc[test_row_indeces, :].sample(frac=1)\n",
    "    train = data.drop(test_row_indeces, axis=0).sample(frac=1)\n",
    "    return train, test\n",
    "\n",
    "def renorm_weigth(row, user_total, artist_mean):\n",
    "    return row['weight'] / user_total_time.at[row['userID']]\n",
    "\n",
    "\n",
    "train, test = data_split(user_artist_rm)\n",
    "user_total_time = train.weight.groupby(train['userID']).sum()\n",
    "train['weight'] = train.apply(renorm_weigth, user_total=user_total_time, artist_mean=None, axis=1)\n",
    "artist_mean_rating = train.weight.groupby(train['artistID']).mean()\n",
    "test['weight'] = test.apply(renorm_weigth, user_total=user_total_time, artist_mean=artist_mean_rating, axis=1)\n",
    "\n",
    "train.to_csv(\"data/music_train.csv\", index=False)\n",
    "test.to_csv(\"data/music_test.csv\", index=False)\n",
    "\n",
    "test.count()"
   ]
  },
  {
   "cell_type": "markdown",
   "metadata": {},
   "source": [
    "## 3. Model building"
   ]
  },
  {
   "cell_type": "markdown",
   "metadata": {},
   "source": [
    "At first, let us create dataloaders for feeding the model with minibatches of data during training."
   ]
  },
  {
   "cell_type": "code",
   "execution_count": 9,
   "metadata": {
    "ExecuteTime": {
     "end_time": "2019-04-28T20:25:01.568492Z",
     "start_time": "2019-04-28T20:25:00.880210Z"
    }
   },
   "outputs": [],
   "source": [
    "# create a custom class to handle data sets for the recommendation data\n",
    "from torch.utils import data\n",
    "\n",
    "\n",
    "# method for shuffling data in a data frame so that ordering\n",
    "# is random during training\n",
    "def shuffle_data(path, filename):\n",
    "    df = pd.read_csv(path + filename)\n",
    "    df = df.sample(frac=1)\n",
    "    df.to_csv(path + filename, index=False)\n",
    "\n",
    "    \n",
    "class RecDataset(data.Dataset):\n",
    "    'Create custom class for pytorch data set'\n",
    "    def __init__(self, path, file_name):\n",
    "        'Initialization of data frame'\n",
    "        self.data = pd.read_csv(path + file_name)\n",
    "\n",
    "    def __len__(self):\n",
    "        'find total number of samples'\n",
    "        return self.data.shape[0]\n",
    "\n",
    "    def __getitem__(self, index):\n",
    "        'Generates one sample of data'\n",
    "        # get data sample from the data set\n",
    "        return (np.array(self.data.loc[index, :]))\n",
    "\n",
    "    \n",
    "def get_loader(path, filename, bs):\n",
    "    \"\"\"method for getting a data loader from a csv file\"\"\"\n",
    "    shuffle_data(path, filename)\n",
    "    data_set = RecDataset(path, filename)\n",
    "    data_loader = data.DataLoader(data_set, batch_size=bs, num_workers=2)\n",
    "    return data_loader\n",
    "\n",
    "\n",
    "train_loader = get_loader('data/', \"music_train.csv\", 32)"
   ]
  },
  {
   "cell_type": "markdown",
   "metadata": {},
   "source": [
    "Now it's time to describe the actual model we are going to implement. We would like to perform matrix factorization, obtaining two matrices, one for users and one for artists. Then we will be able to get a user's rating for an artist by multiplying the corresponding rows from user and artist matrices.<br>\n",
    "In order to implement the described behaviour we will use torch.nn.Embedding class objects."
   ]
  },
  {
   "cell_type": "code",
   "execution_count": 10,
   "metadata": {
    "ExecuteTime": {
     "end_time": "2019-04-28T20:25:02.741703Z",
     "start_time": "2019-04-28T20:25:02.715457Z"
    },
    "code_folding": []
   },
   "outputs": [],
   "source": [
    "class Recommender(nn.Module):\n",
    "    def __init__(self, num_users, num_artists, num_factors):\n",
    "        super().__init__()\n",
    "        self.u = nn.Embedding(num_users, num_factors)\n",
    "        self.a = nn.Embedding(num_artists, num_factors)\n",
    "        self.u.weight.data.uniform_(-0.01, 0.01)\n",
    "        self.a.weight.data.uniform_(-0.01, 0.01)\n",
    "        self.ub = nn.Embedding(num_users, 1)\n",
    "        self.ab = nn.Embedding(num_artists, 1)\n",
    "        self.ub.weight.data.uniform_(-0.01, 0.01)\n",
    "        self.ab.weight.data.uniform_(-0.01, 0.01)\n",
    "        \n",
    "    def forward(self, cats, cots):\n",
    "        users, artists = cats[:,0], cats[:,1]\n",
    "        us, art = self.u(users), self.a(artists)\n",
    "        dp = (us*art).sum(1)\n",
    "        dpb = dp + self.ub(users).squeeze() + self.ab(artists).squeeze()\n",
    "        return dpb"
   ]
  },
  {
   "cell_type": "markdown",
   "metadata": {},
   "source": [
    "## 4. Training"
   ]
  },
  {
   "cell_type": "code",
   "execution_count": 11,
   "metadata": {
    "ExecuteTime": {
     "end_time": "2019-04-28T20:29:50.299402Z",
     "start_time": "2019-04-28T20:25:04.283696Z"
    },
    "scrolled": true
   },
   "outputs": [
    {
     "name": "stdout",
     "output_type": "stream",
     "text": [
      "Finished Training\n"
     ]
    },
    {
     "data": {
      "image/png": "[encoded data removed]",
      "text/plain": [
       "<Figure size 432x288 with 1 Axes>"
      ]
     },
     "metadata": {
      "needs_background": "light"
     },
     "output_type": "display_data"
    }
   ],
   "source": [
    "from torch.autograd import Variable as V\n",
    "from torch import optim\n",
    "from torch import from_numpy\n",
    "from IPython import display\n",
    "\n",
    "#flag activating progress printing after each epoche\n",
    "LOG = False\n",
    "\n",
    "# declare the size of embeddings to be used\n",
    "num_factors = 40\n",
    "\n",
    "# declare the weigths decay parameter for SGD\n",
    "wd = 1e-3\n",
    "\n",
    "# declare loss criterion for the model\n",
    "criterion = nn.MSELoss()\n",
    "\n",
    "# create model and optimizer\n",
    "recommender_model = Recommender(\n",
    "    num_users=user_artist_rm.userID.nunique(),\n",
    "    num_artists=user_artist_rm.artistID.nunique(),\n",
    "    num_factors=num_factors\n",
    ").cuda()\n",
    "\n",
    "training_loss = []\n",
    "lr = .1\n",
    "\n",
    "min_loss = 10.0\n",
    "epoch_to_lower = 3\n",
    "eps = 1e-7\n",
    "\n",
    "while(lr > 1e-5):\n",
    "    \n",
    "    opt = optim.SGD(recommender_model.parameters(), lr, weight_decay=wd, momentum=0.9)\n",
    "    epoch = 0\n",
    "    epoch_no_improve = 0\n",
    "    while(True):  # loop over the dataset multiple times\n",
    "\n",
    "        train_loader = get_loader(\"data/\", \"music_train.csv\", 32)\n",
    "        running_loss = 0.0\n",
    "        for i, train_data in enumerate(train_loader):\n",
    "            # get the inputs\n",
    "            inputs = train_data[:, :2].long().cuda()\n",
    "            actual_out = V(train_data[:, 2].float()).cuda()\n",
    "\n",
    "            # zero the parameter gradients\n",
    "            opt.zero_grad()\n",
    "\n",
    "            # forward + backward + optimize\n",
    "            outputs = recommender_model.forward(inputs, None)\n",
    "            loss = criterion(outputs, actual_out)\n",
    "            loss.backward()\n",
    "            opt.step()\n",
    "\n",
    "            running_loss += loss.item()\n",
    "                \n",
    "        epoch += 1\n",
    "        training_loss.append((running_loss/len(train_loader)))\n",
    "        if LOG:\n",
    "            print(f\"[{lr:.0e}, {epoch}] loss: {running_loss/len(train_loader)}\")\n",
    "        else:\n",
    "            plt.clf()\n",
    "            plt.plot(training_loss, c='b')\n",
    "            display.display(plt.gcf())\n",
    "            display.clear_output(wait=True)\n",
    "        if running_loss/len(train_loader) < min_loss - eps:\n",
    "            epoch_no_improve = 0\n",
    "            min_loss = running_loss/len(train_loader)\n",
    "        else:\n",
    "            epoch_no_improve += 1\n",
    "            if epoch_no_improve >= epoch_to_lower:\n",
    "                break\n",
    "    lr *= .1\n",
    "    \n",
    "\n",
    "print('Finished Training')\n",
    "if LOG:\n",
    "    plt.plot(training_loss)\n",
    "    plt.show()"
   ]
  },
  {
   "cell_type": "markdown",
   "metadata": {},
   "source": [
    "## 5. Evaluating"
   ]
  },
  {
   "cell_type": "code",
   "execution_count": 21,
   "metadata": {
    "ExecuteTime": {
     "end_time": "2019-04-28T20:33:14.188926Z",
     "start_time": "2019-04-28T20:33:13.844253Z"
    }
   },
   "outputs": [
    {
     "name": "stdout",
     "output_type": "stream",
     "text": [
      "Validation MSE: 0.004858031596086221\n"
     ]
    },
    {
     "data": {
      "image/png": "[encoded data removed]",
      "text/plain": [
       "<Figure size 432x288 with 1 Axes>"
      ]
     },
     "metadata": {
      "needs_background": "light"
     },
     "output_type": "display_data"
    }
   ],
   "source": [
    "running_loss = 0.0\n",
    "abs_errors = []\n",
    "criterion2 = nn.L1Loss()\n",
    "test_loader = get_loader(\"data/\", 'music_test.csv', 32)\n",
    "for i, test_data in enumerate(test_loader):\n",
    "    inputs = test_data[:, :2].long().cuda()\n",
    "    actual_out = V(test_data[:, 2].float()).cuda()\n",
    "    # get prediction from recommender\n",
    "    pred = recommender_model(inputs, None)\n",
    "    loss = criterion(pred, actual_out)\n",
    "    abs_errors.append(criterion2(pred, actual_out).item())\n",
    "    running_loss += loss.item()\n",
    "\n",
    "print(f\"Validation MSE: {running_loss/len(test_loader)}\")\n",
    "plt.hist(abs_errors, rwidth=.9, density=False)\n",
    "plt.title(\"Absolute errors distribution\")\n",
    "plt.show()"
   ]
  },
  {
   "cell_type": "markdown",
   "metadata": {},
   "source": [
    "Now let us revert the remappings done in the 2nd section of this notebook and find out which artists turned out to be the most popular."
   ]
  },
  {
   "cell_type": "code",
   "execution_count": 22,
   "metadata": {
    "ExecuteTime": {
     "end_time": "2019-04-28T20:33:56.356655Z",
     "start_time": "2019-04-28T20:33:55.959789Z"
    }
   },
   "outputs": [
    {
     "data": {
      "text/html": [
       "<div>\n",
       "<style scoped>\n",
       "    .dataframe tbody tr th:only-of-type {\n",
       "        vertical-align: middle;\n",
       "    }\n",
       "\n",
       "    .dataframe tbody tr th {\n",
       "        vertical-align: top;\n",
       "    }\n",
       "\n",
       "    .dataframe thead th {\n",
       "        text-align: right;\n",
       "    }\n",
       "</style>\n",
       "<table border=\"1\" class=\"dataframe\">\n",
       "  <thead>\n",
       "    <tr style=\"text-align: right;\">\n",
       "      <th></th>\n",
       "      <th>weight</th>\n",
       "      <th>name</th>\n",
       "    </tr>\n",
       "    <tr>\n",
       "      <th>artistID</th>\n",
       "      <th></th>\n",
       "      <th></th>\n",
       "    </tr>\n",
       "  </thead>\n",
       "  <tbody>\n",
       "    <tr>\n",
       "      <th>72</th>\n",
       "      <td>0.091709</td>\n",
       "      <td>Depeche Mode</td>\n",
       "    </tr>\n",
       "    <tr>\n",
       "      <th>289</th>\n",
       "      <td>0.076234</td>\n",
       "      <td>Britney Spears</td>\n",
       "    </tr>\n",
       "    <tr>\n",
       "      <th>2044</th>\n",
       "      <td>0.056700</td>\n",
       "      <td>Sarah Brightman</td>\n",
       "    </tr>\n",
       "    <tr>\n",
       "      <th>89</th>\n",
       "      <td>0.044960</td>\n",
       "      <td>Lady Gaga</td>\n",
       "    </tr>\n",
       "    <tr>\n",
       "      <th>51</th>\n",
       "      <td>0.044496</td>\n",
       "      <td>Duran Duran</td>\n",
       "    </tr>\n",
       "    <tr>\n",
       "      <th>917</th>\n",
       "      <td>0.040031</td>\n",
       "      <td>Iron Maiden</td>\n",
       "    </tr>\n",
       "    <tr>\n",
       "      <th>292</th>\n",
       "      <td>0.039445</td>\n",
       "      <td>Christina Aguilera</td>\n",
       "    </tr>\n",
       "    <tr>\n",
       "      <th>227</th>\n",
       "      <td>0.038996</td>\n",
       "      <td>The Beatles</td>\n",
       "    </tr>\n",
       "    <tr>\n",
       "      <th>344</th>\n",
       "      <td>0.035776</td>\n",
       "      <td>Taylor Swift</td>\n",
       "    </tr>\n",
       "    <tr>\n",
       "      <th>67</th>\n",
       "      <td>0.034942</td>\n",
       "      <td>Madonna</td>\n",
       "    </tr>\n",
       "  </tbody>\n",
       "</table>\n",
       "</div>"
      ],
      "text/plain": [
       "            weight                name\n",
       "artistID                              \n",
       "72        0.091709        Depeche Mode\n",
       "289       0.076234      Britney Spears\n",
       "2044      0.056700     Sarah Brightman\n",
       "89        0.044960           Lady Gaga\n",
       "51        0.044496         Duran Duran\n",
       "917       0.040031         Iron Maiden\n",
       "292       0.039445  Christina Aguilera\n",
       "227       0.038996         The Beatles\n",
       "344       0.035776        Taylor Swift\n",
       "67        0.034942             Madonna"
      ]
     },
     "execution_count": 22,
     "metadata": {},
     "output_type": "execute_result"
    }
   ],
   "source": [
    "np_artist_embedding = recommender_model.ab.weight.data.cpu().numpy()\n",
    "artist_embedding = pd.DataFrame(np_artist_embedding).rename({0:'weight'}, axis=1)\n",
    "artist_embedding['artistID'] = artist_embedding.index.map(artist_remap)\n",
    "artist_embedding.set_index('artistID', drop=True, inplace=True)\n",
    "artists = pd.read_csv(\"data/hetrec2011-lastfm-2k/artists.dat\", sep='\\t', usecols=['id', 'name']).set_index('id', drop=False)\n",
    "artists = artist_embedding.join(artists).drop('id', axis=1)\n",
    "artists.sort_values('weight', ascending=False).head(10)"
   ]
  }
 ],
 "metadata": {
  "kernelspec": {
   "display_name": "Python 3",
   "language": "python",
   "name": "python3"
  },
  "language_info": {
   "codemirror_mode": {
    "name": "ipython",
    "version": 3
   },
   "file_extension": ".py",
   "mimetype": "text/x-python",
   "name": "python",
   "nbconvert_exporter": "python",
   "pygments_lexer": "ipython3",
   "version": "3.7.3"
  },
  "latex_envs": {
   "LaTeX_envs_menu_present": true,
   "autoclose": false,
   "autocomplete": true,
   "bibliofile": "biblio.bib",
   "cite_by": "apalike",
   "current_citInitial": 1,
   "eqLabelWithNumbers": true,
   "eqNumInitial": 1,
   "hotkeys": {
    "equation": "Ctrl-E",
    "itemize": "Ctrl-I"
   },
   "labels_anchors": false,
   "latex_user_defs": false,
   "report_style_numbering": false,
   "user_envs_cfg": false
  },
  "varInspector": {
   "cols": {
    "lenName": 16,
    "lenType": 16,
    "lenVar": 40
   },
   "kernels_config": {
    "python": {
     "delete_cmd_postfix": "",
     "delete_cmd_prefix": "del ",
     "library": "var_list.py",
     "varRefreshCmd": "print(var_dic_list())"
    },
    "r": {
     "delete_cmd_postfix": ") ",
     "delete_cmd_prefix": "rm(",
     "library": "var_list.r",
     "varRefreshCmd": "cat(var_dic_list()) "
    }
   },
   "position": {
    "height": "342.85px",
    "left": "1550px",
    "right": "20px",
    "top": "120px",
    "width": "350px"
   },
   "types_to_exclude": [
    "module",
    "function",
    "builtin_function_or_method",
    "instance",
    "_Feature"
   ],
   "window_display": false
  }
 },
 "nbformat": 4,
 "nbformat_minor": 2
}
