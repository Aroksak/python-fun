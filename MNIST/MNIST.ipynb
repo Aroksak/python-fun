{
 "cells": [
  {
   "cell_type": "markdown",
   "metadata": {},
   "source": [
    "# MNIST handwritten digits recognition"
   ]
  },
  {
   "cell_type": "code",
   "execution_count": 11,
   "metadata": {
    "ExecuteTime": {
     "end_time": "2019-05-02T17:38:32.261413Z",
     "start_time": "2019-05-02T17:38:32.253672Z"
    }
   },
   "outputs": [],
   "source": [
    "import numpy as np\n",
    "import matplotlib.pyplot as plt\n",
    "import struct"
   ]
  },
  {
   "cell_type": "markdown",
   "metadata": {},
   "source": [
    "## Data loading"
   ]
  },
  {
   "cell_type": "code",
   "execution_count": 12,
   "metadata": {
    "ExecuteTime": {
     "end_time": "2019-05-02T17:38:34.031109Z",
     "start_time": "2019-05-02T17:38:32.854188Z"
    }
   },
   "outputs": [
    {
     "data": {
      "image/png": "[encoded data removed]",
      "text/plain": [
       "<Figure size 432x288 with 1 Axes>"
      ]
     },
     "metadata": {
      "needs_background": "light"
     },
     "output_type": "display_data"
    }
   ],
   "source": [
    "%matplotlib inline\n",
    "with open('data/train-images-idx3-ubyte','rb') as f:\n",
    "    magic, size = struct.unpack(\">II\", f.read(8))\n",
    "    nrows, ncols = struct.unpack(\">II\", f.read(8))\n",
    "    x_train_raw = np.fromfile(f, dtype=np.dtype(np.uint8).newbyteorder('>'))\n",
    "    x_train_raw = x_train_raw.reshape((size, nrows, ncols))\n",
    "    \n",
    "plt.imshow(x_train_raw[0,:,:], cmap='gray')\n",
    "plt.show()"
   ]
  },
  {
   "cell_type": "code",
   "execution_count": 13,
   "metadata": {
    "ExecuteTime": {
     "end_time": "2019-05-02T17:38:34.056996Z",
     "start_time": "2019-05-02T17:38:34.043221Z"
    }
   },
   "outputs": [
    {
     "data": {
      "text/plain": [
       "5"
      ]
     },
     "execution_count": 13,
     "metadata": {},
     "output_type": "execute_result"
    }
   ],
   "source": [
    "with open('data/train-labels-idx1-ubyte','rb') as f:\n",
    "    magic, size = struct.unpack(\">II\", f.read(8))\n",
    "    y_train_raw = np.fromfile(f, dtype=np.dtype(np.uint8).newbyteorder('>'))\n",
    "    \n",
    "y_train_raw[0]"
   ]
  },
  {
   "cell_type": "code",
   "execution_count": 14,
   "metadata": {
    "ExecuteTime": {
     "end_time": "2019-05-02T17:38:34.538462Z",
     "start_time": "2019-05-02T17:38:34.068020Z"
    }
   },
   "outputs": [
    {
     "name": "stdout",
     "output_type": "stream",
     "text": [
      "[[0. 0. 0. 0. 0. 1. 0. 0. 0. 0.]]\n"
     ]
    }
   ],
   "source": [
    "from sklearn.preprocessing import OneHotEncoder\n",
    "y_train = OneHotEncoder(categories='auto', sparse=False).fit_transform(y_train_raw.reshape(-1, 1))\n",
    "y_train = np.expand_dims(y_train, axis=1)\n",
    "print(y_train[0])"
   ]
  },
  {
   "cell_type": "markdown",
   "metadata": {},
   "source": [
    "## Model building"
   ]
  },
  {
   "cell_type": "code",
   "execution_count": 15,
   "metadata": {
    "ExecuteTime": {
     "end_time": "2019-05-02T17:38:34.613776Z",
     "start_time": "2019-05-02T17:38:34.549479Z"
    }
   },
   "outputs": [],
   "source": [
    "from sklearn.neural_network import MLPClassifier\n",
    "from sklearn.preprocessing import OneHotEncoder\n",
    "import time"
   ]
  },
  {
   "cell_type": "code",
   "execution_count": 16,
   "metadata": {
    "ExecuteTime": {
     "end_time": "2019-05-02T17:38:34.732422Z",
     "start_time": "2019-05-02T17:38:34.627348Z"
    }
   },
   "outputs": [],
   "source": [
    "mnist_model = MLPClassifier(\n",
    "    hidden_layer_sizes=(300,),\n",
    "    activation='relu',\n",
    "    solver='adam',\n",
    "    shuffle=True,\n",
    "    verbose=False,\n",
    "    early_stopping=True,\n",
    "    n_iter_no_change=20,\n",
    "    max_iter=200,\n",
    "    random_state=1234\n",
    ")"
   ]
  },
  {
   "cell_type": "code",
   "execution_count": 17,
   "metadata": {
    "ExecuteTime": {
     "end_time": "2019-05-02T17:38:35.103411Z",
     "start_time": "2019-05-02T17:38:34.759279Z"
    }
   },
   "outputs": [],
   "source": [
    "with open('data/t10k-images-idx3-ubyte','rb') as f:\n",
    "    magic, size = struct.unpack(\">II\", f.read(8))\n",
    "    nrows, ncols = struct.unpack(\">II\", f.read(8))\n",
    "    x_test_raw = np.fromfile(f, dtype=np.dtype(np.uint8).newbyteorder('>'))\n",
    "    x_test_raw = x_test_raw.reshape((size, nrows, ncols))\n",
    "    \n",
    "with open('data/t10k-labels-idx1-ubyte','rb') as f:\n",
    "    magic, size = struct.unpack(\">II\", f.read(8))\n",
    "    y_test_raw = np.fromfile(f, dtype=np.dtype(np.uint8).newbyteorder('>'))\n",
    "    \n",
    "y_test = OneHotEncoder(categories='auto', sparse=False).fit_transform(y_test_raw.reshape(-1, 1))    \n",
    "\n",
    "def score(model, X):\n",
    "    predictions = model.predict_proba(X)\n",
    "    res = np.argmax(predictions, axis=1).flatten()\n",
    "    err = (1 - np.equal(res, y_test_raw).sum() / res.size) * 100\n",
    "    print(\"Error: {0:.2f}%\".format(err))"
   ]
  },
  {
   "cell_type": "code",
   "execution_count": 18,
   "metadata": {
    "ExecuteTime": {
     "end_time": "2019-05-02T17:42:36.725599Z",
     "start_time": "2019-05-02T17:38:35.148041Z"
    }
   },
   "outputs": [
    {
     "name": "stdout",
     "output_type": "stream",
     "text": [
      "Time elapsed: 241 sec.\n",
      "Error: 2.23%\n"
     ]
    }
   ],
   "source": [
    "X = x_train_raw.reshape((x_train_raw.shape[0],-1))\n",
    "y = OneHotEncoder(categories='auto', sparse=False).fit_transform(y_train_raw.reshape(-1, 1))\n",
    "\n",
    "start = time.time()\n",
    "mnist_model.fit(X, y)\n",
    "elapsed = time.time() - start\n",
    "print(\"Time elapsed: {0:.0f} sec.\".format(elapsed))\n",
    "\n",
    "X_test = x_test_raw.reshape((x_test_raw.shape[0], -1))\n",
    "score(mnist_model, X_test)"
   ]
  },
  {
   "cell_type": "markdown",
   "metadata": {},
   "source": [
    "## Data exploration"
   ]
  },
  {
   "cell_type": "markdown",
   "metadata": {},
   "source": [
    "First, let's try to frame an image. It can help us speed up fitting process."
   ]
  },
  {
   "cell_type": "code",
   "execution_count": 19,
   "metadata": {
    "ExecuteTime": {
     "end_time": "2019-05-02T17:42:36.995668Z",
     "start_time": "2019-05-02T17:42:36.744180Z"
    }
   },
   "outputs": [
    {
     "data": {
      "image/png": "[encoded data removed]",
      "text/plain": [
       "<Figure size 720x504 with 2 Axes>"
      ]
     },
     "metadata": {
      "needs_background": "light"
     },
     "output_type": "display_data"
    }
   ],
   "source": [
    "mean_input = np.mean(x_train_raw, axis=0)\n",
    "plt.rcParams[\"figure.figsize\"] = (10, 7)\n",
    "plt.subplot(121)\n",
    "plt.imshow(mean_input, cmap='gray')\n",
    "plt.subplot(122)\n",
    "plt.imshow(mean_input[4:25, 5:22], cmap='gray')\n",
    "plt.show()"
   ]
  },
  {
   "cell_type": "code",
   "execution_count": 20,
   "metadata": {
    "ExecuteTime": {
     "end_time": "2019-05-02T17:44:02.584269Z",
     "start_time": "2019-05-02T17:42:37.023682Z"
    }
   },
   "outputs": [
    {
     "name": "stdout",
     "output_type": "stream",
     "text": [
      "Time elapsed: 86 sec.\n",
      "Error: 2.21%\n"
     ]
    }
   ],
   "source": [
    "X = x_train_raw[:, 4:25, 5:22].reshape((x_train_raw.shape[0],-1))\n",
    "y = OneHotEncoder(categories='auto', sparse=False).fit_transform(y_train_raw.reshape(-1, 1))\n",
    "\n",
    "start = time.time()\n",
    "mnist_model.fit(X, y)\n",
    "elapsed = time.time() - start\n",
    "print(\"Time elapsed: {0:.0f} sec.\".format(elapsed))\n",
    "\n",
    "X_test = x_test_raw[:, 4:25, 5:22].reshape((x_test_raw.shape[0], -1))\n",
    "score(mnist_model, X_test)"
   ]
  },
  {
   "cell_type": "markdown",
   "metadata": {},
   "source": [
    "More than 3 times faster and precision even improved!\n",
    "\n",
    "Now, let's try to deskew images."
   ]
  },
  {
   "cell_type": "code",
   "execution_count": 21,
   "metadata": {
    "ExecuteTime": {
     "end_time": "2019-05-02T17:45:05.919187Z",
     "start_time": "2019-05-02T17:44:02.620515Z"
    }
   },
   "outputs": [
    {
     "name": "stdout",
     "output_type": "stream",
     "text": [
      "Time elapsed: 48 sec.\n",
      "Error: 1.18%\n"
     ]
    }
   ],
   "source": [
    "from scipy.ndimage import interpolation\n",
    "\n",
    "\n",
    "def moments(image):\n",
    "    c0,c1 = np.mgrid[:image.shape[0],:image.shape[1]] # A trick in numPy to create a mesh grid\n",
    "    totalImage = np.sum(image) #sum of pixels\n",
    "    m0 = np.sum(c0*image)/totalImage #mu_x\n",
    "    m1 = np.sum(c1*image)/totalImage #mu_y\n",
    "    m00 = np.sum((c0-m0)**2*image)/totalImage #var(x)\n",
    "    m11 = np.sum((c1-m1)**2*image)/totalImage #var(y)\n",
    "    m01 = np.sum((c0-m0)*(c1-m1)*image)/totalImage #covariance(x,y)\n",
    "    mu_vector = np.array([m0,m1]) # Notice that these are \\mu_x, \\mu_y respectively\n",
    "    covariance_matrix = np.array([[m00,m01],[m01,m11]]) # Do you see a similarity between the covariance matrix\n",
    "    return mu_vector, covariance_matrix\n",
    "\n",
    "def deskew(image):\n",
    "    c,v = moments(image)\n",
    "    alpha = v[0,1]/v[0,0]\n",
    "    affine = np.array([[1,0],[alpha,1]])\n",
    "    ocenter = np.array(image.shape)/2.0\n",
    "    offset = c-np.dot(affine,ocenter)\n",
    "    img = interpolation.affine_transform(image,affine,offset=offset)\n",
    "    return (img - img.min()) / (img.max() - img.min())\n",
    "\n",
    "def input_preprocessing(X):\n",
    "    out = np.empty((X.shape[0], 21, 17))\n",
    "    for i in range(X.shape[0]):\n",
    "        out[i] = deskew(X[i, 4:25, 5:22])\n",
    "    return out\n",
    "\n",
    "\n",
    "X = input_preprocessing(x_train_raw).reshape((x_train_raw.shape[0],-1))\n",
    "y = OneHotEncoder(categories='auto', sparse=False).fit_transform(y_train_raw.reshape(-1, 1))\n",
    "\n",
    "start = time.time()\n",
    "mnist_model.fit(X, y)\n",
    "elapsed = time.time() - start\n",
    "print(\"Time elapsed: {0:.0f} sec.\".format(elapsed))\n",
    "\n",
    "X_test = input_preprocessing(x_test_raw).reshape((x_test_raw.shape[0], -1))\n",
    "score(mnist_model, X_test)"
   ]
  },
  {
   "cell_type": "markdown",
   "metadata": {},
   "source": [
    "Almost two times faster and much more precise."
   ]
  },
  {
   "cell_type": "markdown",
   "metadata": {},
   "source": [
    "## Kaggle competition"
   ]
  },
  {
   "cell_type": "code",
   "execution_count": 29,
   "metadata": {
    "ExecuteTime": {
     "end_time": "2019-05-02T18:01:06.931853Z",
     "start_time": "2019-05-02T18:00:52.124431Z"
    }
   },
   "outputs": [],
   "source": [
    "kaggle_set = np.loadtxt('data/kaggle/test.csv', skiprows=1, delimiter=',')\n",
    "kaggle_raw = kaggle_set.reshape(28000, 28, 28)\n",
    "kaggle = input_preprocessing(kaggle_raw).reshape((kaggle_raw.shape[0], -1))"
   ]
  },
  {
   "cell_type": "code",
   "execution_count": 35,
   "metadata": {
    "ExecuteTime": {
     "end_time": "2019-05-02T18:09:28.239316Z",
     "start_time": "2019-05-02T18:09:28.016805Z"
    }
   },
   "outputs": [
    {
     "data": {
      "text/html": [
       "<div>\n",
       "<style scoped>\n",
       "    .dataframe tbody tr th:only-of-type {\n",
       "        vertical-align: middle;\n",
       "    }\n",
       "\n",
       "    .dataframe tbody tr th {\n",
       "        vertical-align: top;\n",
       "    }\n",
       "\n",
       "    .dataframe thead th {\n",
       "        text-align: right;\n",
       "    }\n",
       "</style>\n",
       "<table border=\"1\" class=\"dataframe\">\n",
       "  <thead>\n",
       "    <tr style=\"text-align: right;\">\n",
       "      <th></th>\n",
       "      <th>ImageId</th>\n",
       "      <th>Label</th>\n",
       "    </tr>\n",
       "  </thead>\n",
       "  <tbody>\n",
       "    <tr>\n",
       "      <th>0</th>\n",
       "      <td>1</td>\n",
       "      <td>2</td>\n",
       "    </tr>\n",
       "    <tr>\n",
       "      <th>1</th>\n",
       "      <td>2</td>\n",
       "      <td>0</td>\n",
       "    </tr>\n",
       "    <tr>\n",
       "      <th>2</th>\n",
       "      <td>3</td>\n",
       "      <td>9</td>\n",
       "    </tr>\n",
       "    <tr>\n",
       "      <th>3</th>\n",
       "      <td>4</td>\n",
       "      <td>0</td>\n",
       "    </tr>\n",
       "    <tr>\n",
       "      <th>4</th>\n",
       "      <td>5</td>\n",
       "      <td>3</td>\n",
       "    </tr>\n",
       "  </tbody>\n",
       "</table>\n",
       "</div>"
      ],
      "text/plain": [
       "   ImageId  Label\n",
       "0        1      2\n",
       "1        2      0\n",
       "2        3      9\n",
       "3        4      0\n",
       "4        5      3"
      ]
     },
     "execution_count": 35,
     "metadata": {},
     "output_type": "execute_result"
    }
   ],
   "source": [
    "import pandas as pd\n",
    "\n",
    "\n",
    "answer = np.argmax(mnist_model.predict_proba(kaggle), axis=1).flatten()\n",
    "output = pd.DataFrame({'Label':answer})\n",
    "output.index.rename('ImageId', inplace=True)\n",
    "output.reset_index(inplace=True)\n",
    "output['ImageId'] += 1\n",
    "output.to_csv('submission.csv', index=False)\n",
    "output.head()"
   ]
  }
 ],
 "metadata": {
  "kernelspec": {
   "display_name": "Python 3",
   "language": "python",
   "name": "python3"
  },
  "language_info": {
   "codemirror_mode": {
    "name": "ipython",
    "version": 3
   },
   "file_extension": ".py",
   "mimetype": "text/x-python",
   "name": "python",
   "nbconvert_exporter": "python",
   "pygments_lexer": "ipython3",
   "version": "3.7.3"
  },
  "latex_envs": {
   "LaTeX_envs_menu_present": true,
   "autoclose": false,
   "autocomplete": true,
   "bibliofile": "biblio.bib",
   "cite_by": "apalike",
   "current_citInitial": 1,
   "eqLabelWithNumbers": true,
   "eqNumInitial": 1,
   "hotkeys": {
    "equation": "Ctrl-E",
    "itemize": "Ctrl-I"
   },
   "labels_anchors": false,
   "latex_user_defs": false,
   "report_style_numbering": false,
   "user_envs_cfg": false
  },
  "varInspector": {
   "cols": {
    "lenName": 16,
    "lenType": 16,
    "lenVar": 40
   },
   "kernels_config": {
    "python": {
     "delete_cmd_postfix": "",
     "delete_cmd_prefix": "del ",
     "library": "var_list.py",
     "varRefreshCmd": "print(var_dic_list())"
    },
    "r": {
     "delete_cmd_postfix": ") ",
     "delete_cmd_prefix": "rm(",
     "library": "var_list.r",
     "varRefreshCmd": "cat(var_dic_list()) "
    }
   },
   "types_to_exclude": [
    "module",
    "function",
    "builtin_function_or_method",
    "instance",
    "_Feature"
   ],
   "window_display": false
  }
 },
 "nbformat": 4,
 "nbformat_minor": 2
}
