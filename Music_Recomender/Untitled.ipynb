{
 "cells": [
  {
   "cell_type": "code",
   "execution_count": 12,
   "metadata": {},
   "outputs": [],
   "source": [
    "from torch import nn\n",
    "import pandas as pd\n",
    "import matplotlib.pyplot as plt"
   ]
  },
  {
   "cell_type": "code",
   "execution_count": 52,
   "metadata": {},
   "outputs": [],
   "source": [
    "class Recommender(nn.Module):\n",
    "    def __init__(self, num_users, num_artists, num_factors):\n",
    "        super().__init__()\n",
    "        self.u = nn.Embedding(num_users, num_factors)\n",
    "        self.a = nn.Embedding(num_artists, num_factors)\n",
    "        self.u.weight.data.uniform_(-0.01, 0.01)\n",
    "        self.a.weight.data.uniform_(-0.01, 0.01)\n",
    "        self.ub = nn.Embedding(num_users, 1)\n",
    "        self.ab = nn.Embedding(num_artists, 1)\n",
    "        self.ub.weight.data.uniform_(-0.01, 0.01)\n",
    "        self.ab.weight.data.uniform_(-0.01, 0.01)\n",
    "        \n",
    "    def forward(self, cats):\n",
    "        users, artists = cats[:,0], cats[:,1]\n",
    "        us, art = self.u(users), self.a(artists)\n",
    "        dp = (us*art).sum(1)\n",
    "        dpb = dp + self.ub(users).squeeze() + self.ab(artists).squeeze()\n",
    "        return dpb"
   ]
  },
  {
   "cell_type": "code",
   "execution_count": 3,
   "metadata": {},
   "outputs": [
    {
     "data": {
      "text/html": [
       "<div>\n",
       "<style scoped>\n",
       "    .dataframe tbody tr th:only-of-type {\n",
       "        vertical-align: middle;\n",
       "    }\n",
       "\n",
       "    .dataframe tbody tr th {\n",
       "        vertical-align: top;\n",
       "    }\n",
       "\n",
       "    .dataframe thead th {\n",
       "        text-align: right;\n",
       "    }\n",
       "</style>\n",
       "<table border=\"1\" class=\"dataframe\">\n",
       "  <thead>\n",
       "    <tr style=\"text-align: right;\">\n",
       "      <th></th>\n",
       "      <th>userID</th>\n",
       "      <th>artistID</th>\n",
       "      <th>weight</th>\n",
       "    </tr>\n",
       "  </thead>\n",
       "  <tbody>\n",
       "    <tr>\n",
       "      <th>0</th>\n",
       "      <td>2</td>\n",
       "      <td>51</td>\n",
       "      <td>13883</td>\n",
       "    </tr>\n",
       "    <tr>\n",
       "      <th>1</th>\n",
       "      <td>2</td>\n",
       "      <td>52</td>\n",
       "      <td>11690</td>\n",
       "    </tr>\n",
       "    <tr>\n",
       "      <th>2</th>\n",
       "      <td>2</td>\n",
       "      <td>53</td>\n",
       "      <td>11351</td>\n",
       "    </tr>\n",
       "    <tr>\n",
       "      <th>3</th>\n",
       "      <td>2</td>\n",
       "      <td>54</td>\n",
       "      <td>10300</td>\n",
       "    </tr>\n",
       "    <tr>\n",
       "      <th>4</th>\n",
       "      <td>2</td>\n",
       "      <td>55</td>\n",
       "      <td>8983</td>\n",
       "    </tr>\n",
       "  </tbody>\n",
       "</table>\n",
       "</div>"
      ],
      "text/plain": [
       "   userID  artistID  weight\n",
       "0       2        51   13883\n",
       "1       2        52   11690\n",
       "2       2        53   11351\n",
       "3       2        54   10300\n",
       "4       2        55    8983"
      ]
     },
     "execution_count": 3,
     "metadata": {},
     "output_type": "execute_result"
    }
   ],
   "source": [
    "user_artist = pd.read_csv(\"data/hetrec2011-lastfm-2k/user_artists.dat\", sep='\\t')\n",
    "user_artist.head()"
   ]
  },
  {
   "cell_type": "code",
   "execution_count": 4,
   "metadata": {},
   "outputs": [
    {
     "name": "stdout",
     "output_type": "stream",
     "text": [
      "Total records: 92834\n",
      "Total users: 1892\n",
      "Total artists: 17632\n"
     ]
    }
   ],
   "source": [
    "print(\"Total records: {0}\".format(user_artist.userID.count()))\n",
    "print(\"Total users: {0}\".format(user_artist.userID.nunique()))\n",
    "print(\"Total artists: {0}\".format(user_artist.artistID.nunique()))"
   ]
  },
  {
   "cell_type": "code",
   "execution_count": 25,
   "metadata": {},
   "outputs": [
    {
     "data": {
      "image/png": "[encoded data removed]",
      "text/plain": [
       "<Figure size 432x288 with 1 Axes>"
      ]
     },
     "metadata": {
      "needs_background": "light"
     },
     "output_type": "display_data"
    }
   ],
   "source": [
    "user_artist.userID.value_counts().hist(bins=50)\n",
    "plt.yscale(\"log\")\n",
    "plt.show()"
   ]
  },
  {
   "cell_type": "code",
   "execution_count": 26,
   "metadata": {},
   "outputs": [
    {
     "data": {
      "image/png": "[encoded data removed]",
      "text/plain": [
       "<Figure size 432x288 with 1 Axes>"
      ]
     },
     "metadata": {
      "needs_background": "light"
     },
     "output_type": "display_data"
    }
   ],
   "source": [
    "user_artist.artistID.value_counts().hist(bins=50)\n",
    "plt.yscale(\"log\")\n",
    "plt.show()"
   ]
  },
  {
   "cell_type": "code",
   "execution_count": 56,
   "metadata": {},
   "outputs": [
    {
     "data": {
      "text/plain": [
       "userID      70454\n",
       "artistID    70454\n",
       "weight      70454\n",
       "dtype: int64"
      ]
     },
     "execution_count": 56,
     "metadata": {},
     "output_type": "execute_result"
    }
   ],
   "source": [
    "MIN_RATED_ARTISTS_PER_USER = 50\n",
    "MIN_RATINGS_FOR_ARTIST = 5\n",
    "user_artist_filtered = user_artist.drop(\n",
    "    user_artist[\n",
    "        (user_artist.userID.value_counts()[user_artist.userID] < MIN_RATED_ARTISTS_PER_USER).values |\\\n",
    "        (user_artist.artistID.value_counts()[user_artist.artistID] < MIN_RATINGS_FOR_ARTIST).values\n",
    "    ].index\n",
    ")\n",
    "user_artist_filtered.count()"
   ]
  },
  {
   "cell_type": "code",
   "execution_count": 57,
   "metadata": {},
   "outputs": [
    {
     "data": {
      "text/html": [
       "<div>\n",
       "<style scoped>\n",
       "    .dataframe tbody tr th:only-of-type {\n",
       "        vertical-align: middle;\n",
       "    }\n",
       "\n",
       "    .dataframe tbody tr th {\n",
       "        vertical-align: top;\n",
       "    }\n",
       "\n",
       "    .dataframe thead th {\n",
       "        text-align: right;\n",
       "    }\n",
       "</style>\n",
       "<table border=\"1\" class=\"dataframe\">\n",
       "  <thead>\n",
       "    <tr style=\"text-align: right;\">\n",
       "      <th></th>\n",
       "      <th>userID</th>\n",
       "      <th>artistID</th>\n",
       "      <th>weight</th>\n",
       "    </tr>\n",
       "  </thead>\n",
       "  <tbody>\n",
       "    <tr>\n",
       "      <th>0</th>\n",
       "      <td>0</td>\n",
       "      <td>0</td>\n",
       "      <td>3.094556</td>\n",
       "    </tr>\n",
       "    <tr>\n",
       "      <th>1</th>\n",
       "      <td>0</td>\n",
       "      <td>1</td>\n",
       "      <td>2.574033</td>\n",
       "    </tr>\n",
       "    <tr>\n",
       "      <th>2</th>\n",
       "      <td>0</td>\n",
       "      <td>2</td>\n",
       "      <td>2.493569</td>\n",
       "    </tr>\n",
       "    <tr>\n",
       "      <th>3</th>\n",
       "      <td>0</td>\n",
       "      <td>3</td>\n",
       "      <td>2.244107</td>\n",
       "    </tr>\n",
       "    <tr>\n",
       "      <th>4</th>\n",
       "      <td>0</td>\n",
       "      <td>4</td>\n",
       "      <td>1.931508</td>\n",
       "    </tr>\n",
       "  </tbody>\n",
       "</table>\n",
       "</div>"
      ],
      "text/plain": [
       "   userID  artistID    weight\n",
       "0       0         0  3.094556\n",
       "1       0         1  2.574033\n",
       "2       0         2  2.493569\n",
       "3       0         3  2.244107\n",
       "4       0         4  1.931508"
      ]
     },
     "execution_count": 57,
     "metadata": {},
     "output_type": "execute_result"
    }
   ],
   "source": [
    "def reverse_dict(x):\n",
    "    return dict(zip(x.values(), x.keys()))\n",
    "\n",
    "user_remap = dict(enumerate(user_artist_filtered.userID.unique()))\n",
    "artist_remap = dict(enumerate(user_artist_filtered.artistID.unique()))\n",
    "\n",
    "user_artist_rm = pd.DataFrame()\n",
    "user_artist_rm['userID'] = user_artist_filtered.userID.map(reverse_dict(user_remap))\n",
    "user_artist_rm['artistID'] = user_artist_filtered.artistID.map(reverse_dict(artist_remap))\n",
    "user_artist_rm['weight'] = (user_artist_filtered['weight'] - \n",
    "                            user_artist_filtered.weight.mean()) / user_artist_filtered.weight.std()\n",
    "user_artist_rm.head()"
   ]
  },
  {
   "cell_type": "code",
   "execution_count": 59,
   "metadata": {},
   "outputs": [
    {
     "name": "stdout",
     "output_type": "stream",
     "text": [
      "Rate of known ratings is 1.36%\n",
      "Unique users: 1826\n",
      "Unique artists: 2827\n"
     ]
    }
   ],
   "source": [
    "rate_known = user_artist_rm.userID.count() / (user_artist_rm.userID.max() * user_artist_rm.artistID.max())\n",
    "print(\"Rate of known ratings is {0:.2%}\".format(rate_known))\n",
    "print(\"Unique users: {}\".format(user_artist_rm.userID.max()))\n",
    "print(\"Unique artists: {}\".format(user_artist_rm.artistID.max()))"
   ]
  },
  {
   "cell_type": "code",
   "execution_count": null,
   "metadata": {},
   "outputs": [],
   "source": [
    "model = Recommender(user_artist_rm.userID.max(), user_artist_rm.artistID.max(), 40)\n",
    "model.fit()"
   ]
  }
 ],
 "metadata": {
  "kernelspec": {
   "display_name": "Python 3",
   "language": "python",
   "name": "python3"
  },
  "language_info": {
   "codemirror_mode": {
    "name": "ipython",
    "version": 3
   },
   "file_extension": ".py",
   "mimetype": "text/x-python",
   "name": "python",
   "nbconvert_exporter": "python",
   "pygments_lexer": "ipython3",
   "version": "3.7.3"
  }
 },
 "nbformat": 4,
 "nbformat_minor": 2
}
