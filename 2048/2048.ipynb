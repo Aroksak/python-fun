{
 "cells": [
  {
   "cell_type": "code",
   "execution_count": 1,
   "metadata": {},
   "outputs": [],
   "source": [
    "from My2048game import *\n",
    "from IPython.display import clear_output\n",
    "from time import time\n",
    "import random\n",
    "import copy\n",
    "from math import log2"
   ]
  },
  {
   "cell_type": "code",
   "execution_count": 3,
   "metadata": {},
   "outputs": [
    {
     "name": "stdout",
     "output_type": "stream",
     "text": [
      "Time:  3996.414021730423\n",
      "Score: 32736\n",
      "\n",
      "_________________________\n",
      "\n",
      "|   8 |   2 |   4 |   2 |\n",
      "_________________________\n",
      "\n",
      "| 128 |2048 |  32 | 128 |\n",
      "_________________________\n",
      "\n",
      "|   8 | 256 |1024 |   8 |\n",
      "_________________________\n",
      "\n",
      "|   2 |  16 |  32 |   2 |\n",
      "_________________________\n",
      "\n",
      "      GAME OVER       \n"
     ]
    }
   ],
   "source": [
    "game = Game()\n",
    "imaginary_game = Game()\n",
    "moves = [0,1,2,3]\n",
    "mean_scores = [0,0,0,0]\n",
    "start_time = time()\n",
    "while not game.over:\n",
    "    for move in moves:\n",
    "        sim_score = 0\n",
    "        for i in range(100):\n",
    "            imaginary_game.board = game.board\n",
    "            imaginary_game.score = 0\n",
    "            imaginary_game.over = False\n",
    "            imaginary_game.move(move)\n",
    "            while not imaginary_game.over:\n",
    "                imaginary_game.move(random.choice(moves))\n",
    "            if imaginary_game.score > 0:\n",
    "                sim_score += log2(imaginary_game.score)\n",
    "        mean_scores[move] = sim_score\n",
    "    game.move(mean_scores.index(max(mean_scores)))\n",
    "\n",
    "print(\"Time: \", time()-start_time)\n",
    "game.show()"
   ]
  }
 ],
 "metadata": {
  "kernelspec": {
   "display_name": "Python 3",
   "language": "python",
   "name": "python3"
  },
  "language_info": {
   "codemirror_mode": {
    "name": "ipython",
    "version": 3
   },
   "file_extension": ".py",
   "mimetype": "text/x-python",
   "name": "python",
   "nbconvert_exporter": "python",
   "pygments_lexer": "ipython3",
   "version": "3.6.7"
  }
 },
 "nbformat": 4,
 "nbformat_minor": 2
}
