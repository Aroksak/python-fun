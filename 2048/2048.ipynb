{
 "cells": [
  {
   "cell_type": "code",
   "execution_count": 63,
   "metadata": {},
   "outputs": [],
   "source": [
    "import random\n",
    "import numpy as np"
   ]
  },
  {
   "cell_type": "code",
   "execution_count": 130,
   "metadata": {},
   "outputs": [],
   "source": [
    "import random\n",
    "import numpy as np\n",
    "    \n",
    "def moveUp(in_board):\n",
    "    out_board = np.empty((4,4))\n",
    "    out_board[:] = np.NaN    \n",
    "    \n",
    "    for col in range(4):\n",
    "        out_row = 0\n",
    "        in_row = 0\n",
    "        \n",
    "        #rise all titles up, without addition yet\n",
    "        while in_row < 4:\n",
    "            if np.isnan(in_board[in_row][col]):\n",
    "                in_row += 1\n",
    "                continue\n",
    "            out_board[out_row][col] = in_board[in_row][col]\n",
    "            out_row += 1\n",
    "            in_row += 1    \n",
    "            \n",
    "        out_row = 0\n",
    "        in_row = 0\n",
    "        \n",
    "        #addition\n",
    "        while in_row < 4:\n",
    "            if np.isnan(out_board[in_row][col]):\n",
    "                break\n",
    "            if in_row == 3:\n",
    "                out_board[out_row][col] = in_board[in_row][col]\n",
    "                out_row += 1\n",
    "                break\n",
    "            if out_board[in_row][col] == out_board[in_row+1][col]:\n",
    "                out_board[out_row][col] = 2*out_board[in_row][col]\n",
    "                in_row += 1\n",
    "            else:\n",
    "                out_board[out_row][col] = out_board[in_row][col]\n",
    "            in_row += 1\n",
    "            out_row += 1\n",
    "        \n",
    "        #fill all bottom cells with nans\n",
    "        while out_row < 4:\n",
    "            out_board[out_row][col] = np.NaN\n",
    "            out_row += 1\n",
    "            \n",
    "    return out_board\n",
    "\n",
    "class Game(object):\n",
    "    def __init__(self):\n",
    "        self.board = np.empty((4,4))\n",
    "        self.board[:] = np.NaN\n",
    "        self.score = 0\n",
    "        self.over = False\n",
    "        a = random.choice([0,1,2,3])\n",
    "        b = random.choice([0,1,2,3])\n",
    "        c = random.choice([0,1,2,3])\n",
    "        d = random.choice([0,1,2,3])\n",
    "        while a == c and b == d:\n",
    "            d = random.choice([0,1,2,3])\n",
    "        self.board[a][b] = 2\n",
    "        self.board[c][d] = 2\n",
    "    \n",
    "    def show(self):\n",
    "        for i in range(4):\n",
    "            print('\\n_________________________')\n",
    "            print('\\n|', end='')\n",
    "            for j in range(4):\n",
    "                if np.isfinite(self.board[i][j]):\n",
    "                    print(\"%4d \" % self.board[i][j], end='')\n",
    "                else:\n",
    "                    print(\"     \", end='')\n",
    "                print('|', end='')\n",
    "        print('\\n_________________________')\n",
    "        \n",
    "    def getEmptyCells(self):\n",
    "        empty = []\n",
    "        for i in range(4):\n",
    "            for j in range(4):\n",
    "                if np.isnan(self.board[i][j]):\n",
    "                    empty.append((i,j))\n",
    "        return empty\n",
    "\n",
    "    def boardMove(self, direction):\n",
    "        if direction == 'up':\n",
    "            new_board = moveUp(self.board)\n",
    "        elif direction == 'right':\n",
    "            new_board = np.rot90(moveUp(np.rot90(self.board, k=1)), k=-1)\n",
    "        elif direction == 'down':\n",
    "            new_board = np.rot90(moveUp(np.rot90(self.board, k=2)), k=-2)\n",
    "        else:\n",
    "            new_board = np.rot90(moveUp(np.rot90(self.board, k=-1)), k=1)\n",
    "        \n",
    "        if np.allclose(new_board, self.board, equal_nan=True):\n",
    "            return\n",
    "        \n",
    "        self.board = new_board\n",
    "        x,y = random.choice(self.getEmptyCells())\n",
    "        if random.random() < 0.9:\n",
    "            self.board[x][y] = 2\n",
    "        else:\n",
    "            self.board[x][y] = 4\n",
    "    \n",
    "    def move(self, direction):\n",
    "        self.board = boardMove(self.board,direction)\n",
    "        "
   ]
  },
  {
   "cell_type": "code",
   "execution_count": 131,
   "metadata": {},
   "outputs": [
    {
     "name": "stdout",
     "output_type": "stream",
     "text": [
      "[[ 2. nan  2. nan]\n",
      " [nan nan nan nan]\n",
      " [nan nan nan nan]\n",
      " [nan nan nan nan]]\n"
     ]
    }
   ],
   "source": [
    "game1 = Game()\n",
    "print(game1.board)"
   ]
  },
  {
   "cell_type": "code",
   "execution_count": 140,
   "metadata": {},
   "outputs": [
    {
     "name": "stdout",
     "output_type": "stream",
     "text": [
      "\n",
      "_________________________\n",
      "\n",
      "|   8 |   2 |     |     |\n",
      "_________________________\n",
      "\n",
      "|   2 |     |     |     |\n",
      "_________________________\n",
      "\n",
      "|     |     |     |     |\n",
      "_________________________\n",
      "\n",
      "|     |     |     |     |\n",
      "_________________________\n"
     ]
    }
   ],
   "source": [
    "game1.boardMove('up')\n",
    "game1.show()"
   ]
  }
 ],
 "metadata": {
  "kernelspec": {
   "display_name": "Python 3",
   "language": "python",
   "name": "python3"
  },
  "language_info": {
   "codemirror_mode": {
    "name": "ipython",
    "version": 3
   },
   "file_extension": ".py",
   "mimetype": "text/x-python",
   "name": "python",
   "nbconvert_exporter": "python",
   "pygments_lexer": "ipython3",
   "version": "3.6.7"
  }
 },
 "nbformat": 4,
 "nbformat_minor": 2
}
